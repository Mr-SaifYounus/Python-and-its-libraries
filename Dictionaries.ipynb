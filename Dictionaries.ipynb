{
 "cells": [
  {
   "cell_type": "code",
   "execution_count": null,
   "metadata": {},
   "outputs": [],
   "source": [
    "#Task 1 :Write a Python program that accepts a sequence of comma-separated numbers from the user and generates a list and a tuple of those numbers.\n",
    "x=list(map(int,input(\"Enter the number separated by commas: \").split(\",\")))\n",
    "print(\"=\"*50)\n",
    "print(\"List: \",x)\n",
    "print(\"=\"*50)\n",
    "print(\"Tuple: \",tuple(x))\n",
    "print(\"=\"*50)"
   ]
  },
  {
   "cell_type": "code",
   "execution_count": null,
   "metadata": {},
   "outputs": [],
   "source": [
    "#TASK2:  Write a Python program to display the first and last colors from the following list.\n",
    "x=list(input(\"Enter the COLORS SEPARATED BY COMMAS: \").split(\",\"))\n",
    "print(\"=\"*50)\n",
    "print(\"First color: \",x[0],\"\\nlast color: \",x[-1])\n",
    "print(\"=\"*50)"
   ]
  },
  {
   "cell_type": "code",
   "execution_count": null,
   "metadata": {},
   "outputs": [],
   "source": [
    "#Task 3:  Write a Python program that checks whether a specified value is contained within a group of values.\n",
    "x=input(\"Enter the test values separated by commas: \").split(\",\")\n",
    "y=input(\"Enter the values to be tested separated by commas: \").split(\",\")\n",
    "print(\"=\"*50)\n",
    "for value in y:\n",
    "    if value in x:\n",
    "        print(True)\n",
    "    else:\n",
    "        print(False)\n",
    "print(\"=\"*50)"
   ]
  },
  {
   "cell_type": "code",
   "execution_count": null,
   "metadata": {},
   "outputs": [],
   "source": [
    "#Task 3: Write a Python program to print all odd numbers from a given list of numbers in the same order and stop printing any after 237 in the sequence.\n",
    "numbers = [    \n",
    "    386, 462, 47, 418, 907, 344, 236, 375, 823, 566, 597, 978, 328, 615, 953, 345, \n",
    "    399, 162, 758, 219, 918, 237, 412, 566, 826, 248, 866, 950, 626, 949, 687, 217, \n",
    "    815, 67, 104, 58, 512, 24, 892, 894, 767, 553, 81, 379, 843, 831, 445, 742, 717, \n",
    "    958,743, 527\n",
    "    ]\n",
    "oddnumbers=[]\n",
    "for x in numbers:\n",
    "    if x%2!=0:\n",
    "        oddnumbers.append(x)\n",
    "    if x==237:\n",
    "        break\n",
    "print(oddnumbers)\n"
   ]
  },
  {
   "cell_type": "code",
   "execution_count": null,
   "metadata": {},
   "outputs": [],
   "source": [
    "#Task5: Write a Python program that prints out all colors from color_list_1 that are not present in color_list_2.\n",
    "x=set(list(input(\"Enter the colors in list 1 separated by comma: \").split(\",\")))\n",
    "y=set(list(input(\"Enter the colors in list 2 separated by comma: \").split(\",\")))\n",
    "z=x.difference(y)\n",
    "print(\"=\"*50)\n",
    "print(\"Colors present in list 1 but not in list 2 are: \",z)\n",
    "print(\"=\"*50)"
   ]
  },
  {
   "cell_type": "code",
   "execution_count": 13,
   "metadata": {},
   "outputs": [
    {
     "ename": "ValueError",
     "evalue": "invalid literal for int() with base 10: '12,34'",
     "output_type": "error",
     "traceback": [
      "\u001b[1;31m---------------------------------------------------------------------------\u001b[0m",
      "\u001b[1;31mValueError\u001b[0m                                Traceback (most recent call last)",
      "Cell \u001b[1;32mIn[13], line 1\u001b[0m\n\u001b[1;32m----> 1\u001b[0m x \u001b[38;5;241m=\u001b[39m \u001b[38;5;28;43mint\u001b[39;49m\u001b[43m(\u001b[49m\u001b[38;5;28;43minput\u001b[39;49m\u001b[43m(\u001b[49m\u001b[38;5;124;43m\"\u001b[39;49m\u001b[38;5;124;43mEnter the numbers separated by commas: \u001b[39;49m\u001b[38;5;124;43m\"\u001b[39;49m\u001b[43m)\u001b[49m\u001b[43m)\u001b[49m\n\u001b[0;32m      2\u001b[0m \u001b[38;5;28;01mwhile\u001b[39;00m \u001b[38;5;28;01mTrue\u001b[39;00m:\n\u001b[0;32m      3\u001b[0m     reversed_number\u001b[38;5;241m=\u001b[39m\u001b[38;5;28mint\u001b[39m(\u001b[38;5;28mstr\u001b[39m(x)[::\u001b[38;5;241m-\u001b[39m\u001b[38;5;241m1\u001b[39m])\n",
      "\u001b[1;31mValueError\u001b[0m: invalid literal for int() with base 10: '12,34'"
     ]
    }
   ],
   "source": [
    "x = int(input(\"Enter the numbers separated by commas: \"))\n",
    "while True:\n",
    "    reversed_number=int(str(x)[::-1])\n",
    "    number+=reversed_number\n",
    "    print(\"Original Sum: \",number)\n",
    "    \n",
    "\n"
   ]
  },
  {
   "cell_type": "code",
   "execution_count": 16,
   "metadata": {},
   "outputs": [
    {
     "name": "stdout",
     "output_type": "stream",
     "text": [
      "['Nidia Dominique'] \n",
      " ['Becki Saunder']\n"
     ]
    }
   ],
   "source": [
    "dict1={\"Bernita Ahner\": 12, \"Kristie Marsico\": 11, \"Sara Pardee\": 14, \"Fallon Fabiano\": 11, \"Nidia Dominique\": 15}\n",
    "dict2={\"Nilda Woodside\": 12, \"Jackelyn Pineda\": 12.2, \"Sofia Park\": 12.4, \"Joannie Archibald\": 12.6, \"Becki Saunder\": 12.7}\n",
    "max1=max(dict1.values())\n",
    "max2=max(dict2.values())\n",
    "maxkey1=[keys for keys,values in dict1.items() if values==max1]\n",
    "maxkey2=[keys for keys,values in dict2.items() if values==max2]\n",
    "print(maxkey1,\"\\n\",maxkey2)"
   ]
  },
  {
   "cell_type": "code",
   "execution_count": null,
   "metadata": {},
   "outputs": [],
   "source": [
    "x=set(input(\"Enter the pair of numbers separated by commas\").split(\",\"))\n",
    "for numbers in x:\n",
    "    if numbers%1==0 and numbers"
   ]
  }
 ],
 "metadata": {
  "kernelspec": {
   "display_name": "Python 3",
   "language": "python",
   "name": "python3"
  },
  "language_info": {
   "codemirror_mode": {
    "name": "ipython",
    "version": 3
   },
   "file_extension": ".py",
   "mimetype": "text/x-python",
   "name": "python",
   "nbconvert_exporter": "python",
   "pygments_lexer": "ipython3",
   "version": "3.12.4"
  }
 },
 "nbformat": 4,
 "nbformat_minor": 2
}
