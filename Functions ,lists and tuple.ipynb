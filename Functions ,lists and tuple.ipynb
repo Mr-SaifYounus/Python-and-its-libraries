{
 "cells": [
  {
   "cell_type": "code",
   "execution_count": null,
   "metadata": {},
   "outputs": [],
   "source": [
    "def square(x):\n",
    "    return x*x\n",
    "result=square(x)\n",
    "x=int(input(\"Enter the number\"))\n",
    "print(\"Square of\",x,\"is\",result)"
   ]
  },
  {
   "cell_type": "code",
   "execution_count": 20,
   "metadata": {},
   "outputs": [],
   "source": [
    "def square (x):\n",
    "    return x*x\n",
    "\n",
    "while True:\n",
    "    x=int(input(\"Enter the number\"))\n",
    "    output=square(x)\n",
    "    print(output)"
   ]
  },
  {
   "cell_type": "code",
   "execution_count": null,
   "metadata": {},
   "outputs": [],
   "source": [
    "def greet(name):\n",
    "    return \"hello\",name,\"How are you today\"\n",
    "x=input(\"Enter your name\")\n",
    "greeting=greet(x)\n",
    "print(greeting)"
   ]
  },
  {
   "cell_type": "code",
   "execution_count": null,
   "metadata": {},
   "outputs": [],
   "source": [
    "def greet(name):\n",
    "    return \"hello\",name,\"How are you today\"\n",
    "name=input(\"Enter your name\")\n",
    "greeting=greet(name)\n",
    "print(greeting)"
   ]
  },
  {
   "cell_type": "code",
   "execution_count": null,
   "metadata": {},
   "outputs": [],
   "source": [
    "def greety(name=\"Saif\",greeting=\"hello\"):\n",
    "    print(greeting,name)\n",
    "greety(greeting=\"hi\")\n",
    "greety(\"alice\")\n",
    "greety(\"alice\",\"why\")\n"
   ]
  },
  {
   "cell_type": "code",
   "execution_count": null,
   "metadata": {},
   "outputs": [],
   "source": [
    "def factorial(n):\n",
    "    if n==0:\n",
    "        return 1\n",
    "    else:\n",
    "        return n*factorial(n-1)\n",
    "n=int(input(\"Enter the number\"))\n",
    "print(factorial(n))"
   ]
  },
  {
   "cell_type": "code",
   "execution_count": null,
   "metadata": {},
   "outputs": [],
   "source": [
    "import math\n",
    "math.factorial(n)\n",
    "n=int(input(\"enter a number\"))\n",
    "print(factorial(n))"
   ]
  },
  {
   "cell_type": "code",
   "execution_count": null,
   "metadata": {},
   "outputs": [],
   "source": [
    "def outerfunction(x):\n",
    "    def innerfunction(y):\n",
    "        return x+y\n",
    "    return innerfunction\n",
    "x=int(input(\"Enter first number\"))\n",
    "y=int(input(\"Enter second number\"))\n",
    "closure=outerfunction(x) #closure is the return of outer function that is the ineerfunction\n",
    "result=closure(y)\n",
    "print(result)"
   ]
  },
  {
   "cell_type": "code",
   "execution_count": null,
   "metadata": {},
   "outputs": [],
   "source": [
    "char=\"A\"\n",
    "char2=\"b\"\n",
    "print(ord(char)) #ascii of the character\n",
    "print(ord(char2))\n",
    "print(chr(65))   #character of the ascii"
   ]
  },
  {
   "cell_type": "code",
   "execution_count": null,
   "metadata": {},
   "outputs": [],
   "source": [
    "ascii_dict = {chr(i): i for i in range(ord('A'), ord('Z') + 1)}  #starting a loop with the ascii of A and ending in the range pf Z +1, VALUES ARE ASCII I.E i and keys are the chr of ascii\n",
    "\n",
    "print(ascii_dict)"
   ]
  },
  {
   "cell_type": "code",
   "execution_count": null,
   "metadata": {},
   "outputs": [],
   "source": [
    "x={\"a\":[1,2],\"b\":[2,4,5],\"c\":[6]}\n",
    "#output={\"a\":3,:\"b\":11,\"c\":6}\n",
    "def sum_(x):\n",
    "    return {keys:sum(values) for keys,values in x.items()}\n",
    "print(sum_(x))\n",
    "\n",
    "    "
   ]
  },
  {
   "cell_type": "code",
   "execution_count": null,
   "metadata": {},
   "outputs": [],
   "source": [
    "x = \"23,45,67,89\"\n",
    "number_strings = x.split(',')\n",
    "list1 = []\n",
    "tuple1 = ()\n",
    "for num_str in number_strings:\n",
    "    list1.append(num_str)\n",
    "    tuple1 += (num_str,)\n",
    "print(\"List:\", list1)\n",
    "print(\"Tuple:\", tuple1)\n",
    "\n",
    "\n"
   ]
  },
  {
   "cell_type": "code",
   "execution_count": null,
   "metadata": {},
   "outputs": [],
   "source": [
    "x=\"23,45,67,89\"\n",
    "def listandtuple(string):\n",
    "    elements=string.split(\",\")\n",
    "    list1=elements\n",
    "    tuple1=tuple(elements)\n",
    "    return(list1,tuple1)\n",
    "y=listandtuple(x)\n",
    "print(y)\n",
    "print(tuple1)\n",
    "z=\"-\".join(tuple1)\n",
    "n=\"-\".join(list1)\n",
    "print(z,n)"
   ]
  },
  {
   "cell_type": "code",
   "execution_count": null,
   "metadata": {},
   "outputs": [],
   "source": [
    "student_names = [\"Alice\", \"Bob\", \"Charlie\", \"David\", \"Emma\"]\n",
    "scores = [75, 92, 80, 88, 95]\n",
    "highest_score=max(scores)\n",
    "print(\"Highest score: \",highest_score)\n",
    "Average=sum(scores)/len(scores)\n",
    "print(\"Average: \",Average)\n",
    "threshold1=80\n",
    "x=[name for name,scores in zip(student_names,scores) if scores >threshold1]\n",
    "print(x)\n",
    "y=sorted(student_names)\n",
    "print(y)"
   ]
  },
  {
   "cell_type": "code",
   "execution_count": null,
   "metadata": {},
   "outputs": [],
   "source": [
    "#You are tasked with creating an Employee Management System using lists and tuples. Each employee is represented by a tuple containing (employee_id, name, salary). Implement functions to add a new employee, calculate the total salary, and find the employee with the highest salary.\n",
    "Employees=[]\n",
    "def add_employee(employee_id,name,salary):\n",
    "    employee=(employee_id,name,salary)\n",
    "    Employees.append(employee)\n",
    "    return Employees\n",
    "def totalsalary():\n",
    "    x=sum([sal[2] for sal in Employees])\n",
    "    return x\n",
    "def max_salary():\n",
    "    y=max([sal[2] for sal in Employees])\n",
    "    return y\n",
    "add_employee(1, \"Alice\", 50000)\n",
    "add_employee(2, \"Bob\", 60000)\n",
    "add_employee(3, \"Charlie\", 75000)\n",
    "print(Employees)\n",
    "print(totalsalary())\n",
    "print(max_salary())\n",
    "\n"
   ]
  },
  {
   "cell_type": "code",
   "execution_count": null,
   "metadata": {},
   "outputs": [],
   "source": []
  }
 ],
 "metadata": {
  "kernelspec": {
   "display_name": "base",
   "language": "python",
   "name": "python3"
  },
  "language_info": {
   "codemirror_mode": {
    "name": "ipython",
    "version": 3
   },
   "file_extension": ".py",
   "mimetype": "text/x-python",
   "name": "python",
   "nbconvert_exporter": "python",
   "pygments_lexer": "ipython3",
   "version": "3.12.4"
  }
 },
 "nbformat": 4,
 "nbformat_minor": 2
}
